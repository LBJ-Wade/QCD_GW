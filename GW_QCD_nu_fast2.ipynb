{
 "cells": [
  {
   "cell_type": "markdown",
   "metadata": {},
   "source": [
    "## Preamble"
   ]
  },
  {
   "cell_type": "code",
   "execution_count": null,
   "metadata": {},
   "outputs": [],
   "source": [
    "SetDirectory[\"~/Documents/Univ/2nd_GW_QCD\"];"
   ]
  },
  {
   "cell_type": "code",
   "execution_count": null,
   "metadata": {},
   "outputs": [],
   "source": [
    "SetOptions[{Plot,LogPlot,LogLinearPlot,LogLogPlot},\n",
    "           {ImageSize->Large,\n",
    "            Frame->True,\n",
    "            LabelStyle->Directive[Black,Large,FontFamily->\"Palatino\"],\n",
    "            PlotStyle->AbsoluteThickness[3]}];\n",
    "SetOptions[{ListPlot,ListLogPlot,ListLogLinearPlot,ListLogLogPlot},\n",
    "           {ImageSize->Large,\n",
    "            Frame->True, \n",
    "            LabelStyle->Directive[Black,Large,FontFamily->\"Palatino\"],\n",
    "            PlotStyle->AbsoluteThickness[3],\n",
    "            Joined->True}];\n",
    "RGBData = {\"#5E81B5\",\"#E19C24\",\"#8FB032\",\"#EB6235\",\"#8778B3\",\"#C56E1A\",\"#5D9EC7\",\"#FFBF00\",\"#A5609D\",\"#929600\",\"#E95536\",\"#6685D9\",\"#F89F13\",\"#BC5B80\",\"#47B66D\"};\n",
    "Color = Map[RGBColor,RGBData];"
   ]
  },
  {
   "cell_type": "code",
   "execution_count": null,
   "metadata": {},
   "outputs": [],
   "source": []
  }
 ],
 "metadata": {
  "kernelspec": {
   "display_name": "Wolfram Language 12.1",
   "language": "Wolfram Language",
   "name": "wolframlanguage12.1"
  },
  "language_info": {
   "name": ""
  }
 },
 "nbformat": 4,
 "nbformat_minor": 4
}
